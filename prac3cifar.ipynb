{
  "nbformat": 4,
  "nbformat_minor": 0,
  "metadata": {
    "colab": {
      "provenance": []
    },
    "kernelspec": {
      "name": "python3",
      "display_name": "Python 3"
    },
    "language_info": {
      "name": "python"
    }
  },
  "cells": [
    {
      "cell_type": "code",
      "execution_count": null,
      "metadata": {
        "id": "A57J7kMMhC-E"
      },
      "outputs": [],
      "source": [
        "# Import necessary libraries\n",
        "import numpy as np\n",
        "import tensorflow as tf\n",
        "from tensorflow.keras.datasets import cifar10\n",
        "from tensorflow.keras.models import Sequential\n",
        "from tensorflow.keras.layers import Conv2D, MaxPooling2D, Flatten, Dense, Dropout\n",
        "import matplotlib.pyplot as plt\n",
        "\n",
        "# Stage a: Loading and preprocessing the image data\n",
        "(x_train, y_train), (x_test, y_test) = cifar10.load_data()  # Load CIFAR-10 dataset\n",
        "x_train = x_train.astype('float32') / 255  # Normalize\n",
        "x_test = x_test.astype('float32') / 255    # Normalize\n",
        "\n",
        "# Stage b: Defining the model’s architecture\n",
        "model = Sequential([\n",
        "    Conv2D(32, kernel_size=(3, 3), activation='relu', input_shape=(32, 32, 3)),\n",
        "    MaxPooling2D(pool_size=(2, 2)),\n",
        "    Flatten(),\n",
        "    Dense(200, activation=\"relu\"),\n",
        "    Dropout(0.3),\n",
        "    Dense(10, activation=\"softmax\")\n",
        "])\n",
        "\n",
        "# Compile the model\n",
        "model.compile(optimizer='adam', loss='sparse_categorical_crossentropy', metrics=['accuracy'])\n",
        "\n",
        "# Stage c: Training the model\n",
        "model.fit(x_train, y_train, epochs=2, validation_data=(x_test, y_test))\n",
        "\n",
        "# Stage d: Estimating the model’s performance\n",
        "test_loss, test_accuracy = model.evaluate(x_test, y_test)\n",
        "print(f'Test accuracy: {test_accuracy*100:.2f}%')\n",
        "\n",
        "# Display an example test image and its predicted label\n",
        "image = x_test[9]\n",
        "plt.imshow(image)\n",
        "plt.show()\n"
      ]
    }
  ]
}