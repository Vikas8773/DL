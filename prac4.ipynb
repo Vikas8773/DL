{
  "nbformat": 4,
  "nbformat_minor": 0,
  "metadata": {
    "colab": {
      "provenance": []
    },
    "kernelspec": {
      "name": "python3",
      "display_name": "Python 3"
    },
    "language_info": {
      "name": "python"
    }
  },
  "cells": [
    {
      "cell_type": "code",
      "execution_count": null,
      "metadata": {
        "id": "A57J7kMMhC-E"
      },
      "outputs": [],
      "source": [
        "# Import necessary libraries\n",
        "import numpy as np\n",
        "import matplotlib.pyplot as plt\n",
        "from sklearn.model_selection import train_test_split\n",
        "from sklearn.preprocessing import StandardScaler\n",
        "from tensorflow import keras\n",
        "from tensorflow.keras import layers\n",
        "import pandas as pd\n",
        "\n",
        "# Load the dataset (replace 'path/to/your-dataset.csv' with your actual file path)\n",
        "data = pd.read_csv('/content/csv_result-ECG5000_TEST.csv')  # Replace with your dataset path\n",
        "\n",
        "# Convert dataset to a NumPy array\n",
        "X = data.values\n",
        "X = X.astype('float32') / 255.0  # Normalize if needed\n",
        "\n",
        "# Stage b: Split the dataset\n",
        "X_train, X_test = train_test_split(X, test_size=0.2, random_state=42)\n",
        "\n",
        "# Stage c: Scale the data\n",
        "scaler = StandardScaler()\n",
        "X_train = scaler.fit_transform(X_train)\n",
        "X_test = scaler.transform(X_test)\n",
        "\n",
        "# Stage c: Define the Encoder and Decoder\n",
        "input_dim = X_train.shape[1]\n",
        "encoding_dim = 32\n",
        "input_layer = layers.Input(shape=(input_dim,))\n",
        "encoder = layers.Dense(encoding_dim, activation='relu')(input_layer)\n",
        "decoder = layers.Dense(input_dim, activation='sigmoid')(encoder)\n",
        "autoencoder = keras.Model(inputs=input_layer, outputs=decoder)\n",
        "\n",
        "# Stage d: Compile the model\n",
        "autoencoder.compile(optimizer='adam', loss='mean_squared_error')\n",
        "\n",
        "# Stage e: Train the autoencoder\n",
        "history = autoencoder.fit(X_train, X_train, epochs=35, batch_size=256, validation_data=(X_test, X_test), shuffle=True)\n",
        "\n",
        "# Predict and calculate reconstruction error for anomaly detection\n",
        "X_test_pred = autoencoder.predict(X_test)\n",
        "reconstruction_error = np.mean(np.square(X_test - X_test_pred), axis=1)\n",
        "\n",
        "# Define threshold and identify anomalies\n",
        "threshold = np.percentile(reconstruction_error, 95)\n",
        "anomalies = reconstruction_error > threshold\n",
        "print(f\"Number of anomalies detected: {np.sum(anomalies)}\")\n",
        "\n",
        "# Plot training and validation loss\n",
        "plt.plot(history.history['loss'], label='Train Loss')\n",
        "plt.plot(history.history['val_loss'], label='Validation Loss')\n",
        "plt.title('Model Loss')\n",
        "plt.xlabel('Epochs')\n",
        "plt.ylabel('Loss')\n",
        "plt.legend()\n",
        "plt.show()"
      ]
    }
  ]
}